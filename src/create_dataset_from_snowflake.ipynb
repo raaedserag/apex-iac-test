{
  "cells": [
    {
      "cell_type": "code",
      "execution_count": 1,
      "metadata": {
        "gather": {
          "logged": 1657636174045
        }
      },
      "outputs": [
        {
          "name": "stdout",
          "output_type": "stream",
          "text": [
            "Requirement already satisfied: snowflake-sqlalchemy in /anaconda/envs/azureml_py38/lib/python3.8/site-packages (1.3.3)\n",
            "Requirement already satisfied: sqlalchemy<2.0.0,>=1.4.0 in /anaconda/envs/azureml_py38/lib/python3.8/site-packages (from snowflake-sqlalchemy) (1.4.35)\n",
            "Requirement already satisfied: snowflake-connector-python<3.0.0 in /anaconda/envs/azureml_py38/lib/python3.8/site-packages (from snowflake-sqlalchemy) (2.6.2)\n",
            "Requirement already satisfied: greenlet!=0.4.17; python_version >= \"3\" and (platform_machine == \"aarch64\" or (platform_machine == \"ppc64le\" or (platform_machine == \"x86_64\" or (platform_machine == \"amd64\" or (platform_machine == \"AMD64\" or (platform_machine == \"win32\" or platform_machine == \"WIN32\")))))) in /anaconda/envs/azureml_py38/lib/python3.8/site-packages (from sqlalchemy<2.0.0,>=1.4.0->snowflake-sqlalchemy) (1.1.0)\n",
            "Requirement already satisfied: azure-storage-blob<13.0.0,>=12.0.0 in /anaconda/envs/azureml_py38/lib/python3.8/site-packages (from snowflake-connector-python<3.0.0->snowflake-sqlalchemy) (12.8.1)\n",
            "Requirement already satisfied: oscrypto<2.0.0 in /anaconda/envs/azureml_py38/lib/python3.8/site-packages (from snowflake-connector-python<3.0.0->snowflake-sqlalchemy) (1.2.1)\n",
            "Requirement already satisfied: cffi<2.0.0,>=1.9 in /anaconda/envs/azureml_py38/lib/python3.8/site-packages (from snowflake-connector-python<3.0.0->snowflake-sqlalchemy) (1.14.5)\n",
            "Requirement already satisfied: pyOpenSSL<21.0.0,>=16.2.0 in /anaconda/envs/azureml_py38/lib/python3.8/site-packages (from snowflake-connector-python<3.0.0->snowflake-sqlalchemy) (20.0.1)\n",
            "Requirement already satisfied: asn1crypto<2.0.0,>0.24.0 in /anaconda/envs/azureml_py38/lib/python3.8/site-packages (from snowflake-connector-python<3.0.0->snowflake-sqlalchemy) (1.4.0)\n",
            "Requirement already satisfied: charset-normalizer~=2.0.0 in /anaconda/envs/azureml_py38/lib/python3.8/site-packages (from snowflake-connector-python<3.0.0->snowflake-sqlalchemy) (2.0.7)\n",
            "Requirement already satisfied: requests<3.0.0 in /anaconda/envs/azureml_py38/lib/python3.8/site-packages (from snowflake-connector-python<3.0.0->snowflake-sqlalchemy) (2.25.1)\n",
            "Requirement already satisfied: certifi>=2017.4.17 in /anaconda/envs/azureml_py38/lib/python3.8/site-packages (from snowflake-connector-python<3.0.0->snowflake-sqlalchemy) (2021.5.30)\n",
            "Requirement already satisfied: pytz in /anaconda/envs/azureml_py38/lib/python3.8/site-packages (from snowflake-connector-python<3.0.0->snowflake-sqlalchemy) (2021.1)\n",
            "Requirement already satisfied: azure-common<2.0.0 in /anaconda/envs/azureml_py38/lib/python3.8/site-packages (from snowflake-connector-python<3.0.0->snowflake-sqlalchemy) (1.1.27)\n",
            "Requirement already satisfied: idna<4,>=2.5 in /anaconda/envs/azureml_py38/lib/python3.8/site-packages (from snowflake-connector-python<3.0.0->snowflake-sqlalchemy) (2.10)\n",
            "Requirement already satisfied: boto3<2.0.0,>=1.4.4 in /anaconda/envs/azureml_py38/lib/python3.8/site-packages (from snowflake-connector-python<3.0.0->snowflake-sqlalchemy) (1.17.98)\n",
            "Requirement already satisfied: setuptools>34.0.0 in /anaconda/envs/azureml_py38/lib/python3.8/site-packages (from snowflake-connector-python<3.0.0->snowflake-sqlalchemy) (50.3.0.post20201006)\n",
            "Requirement already satisfied: pycryptodomex!=3.5.0,<4.0.0,>=3.2 in /anaconda/envs/azureml_py38/lib/python3.8/site-packages (from snowflake-connector-python<3.0.0->snowflake-sqlalchemy) (3.10.1)\n",
            "Requirement already satisfied: cryptography<4.0.0,>=2.5.0 in /anaconda/envs/azureml_py38/lib/python3.8/site-packages (from snowflake-connector-python<3.0.0->snowflake-sqlalchemy) (3.4.7)\n",
            "Requirement already satisfied: pyjwt<3.0.0 in /anaconda/envs/azureml_py38/lib/python3.8/site-packages (from snowflake-connector-python<3.0.0->snowflake-sqlalchemy) (2.1.0)\n",
            "Requirement already satisfied: azure-core<2.0.0,>=1.10.0 in /anaconda/envs/azureml_py38/lib/python3.8/site-packages (from azure-storage-blob<13.0.0,>=12.0.0->snowflake-connector-python<3.0.0->snowflake-sqlalchemy) (1.15.0)\n",
            "Requirement already satisfied: msrest>=0.6.18 in /anaconda/envs/azureml_py38/lib/python3.8/site-packages (from azure-storage-blob<13.0.0,>=12.0.0->snowflake-connector-python<3.0.0->snowflake-sqlalchemy) (0.6.21)\n",
            "Requirement already satisfied: pycparser in /anaconda/envs/azureml_py38/lib/python3.8/site-packages (from cffi<2.0.0,>=1.9->snowflake-connector-python<3.0.0->snowflake-sqlalchemy) (2.20)\n",
            "Requirement already satisfied: six>=1.5.2 in /anaconda/envs/azureml_py38/lib/python3.8/site-packages (from pyOpenSSL<21.0.0,>=16.2.0->snowflake-connector-python<3.0.0->snowflake-sqlalchemy) (1.16.0)\n",
            "Requirement already satisfied: urllib3<1.27,>=1.21.1 in /anaconda/envs/azureml_py38/lib/python3.8/site-packages (from requests<3.0.0->snowflake-connector-python<3.0.0->snowflake-sqlalchemy) (1.26.5)\n",
            "Requirement already satisfied: chardet<5,>=3.0.2 in /anaconda/envs/azureml_py38/lib/python3.8/site-packages (from requests<3.0.0->snowflake-connector-python<3.0.0->snowflake-sqlalchemy) (4.0.0)\n",
            "Requirement already satisfied: jmespath<1.0.0,>=0.7.1 in /anaconda/envs/azureml_py38/lib/python3.8/site-packages (from boto3<2.0.0,>=1.4.4->snowflake-connector-python<3.0.0->snowflake-sqlalchemy) (0.10.0)\n",
            "Requirement already satisfied: botocore<1.21.0,>=1.20.98 in /anaconda/envs/azureml_py38/lib/python3.8/site-packages (from boto3<2.0.0,>=1.4.4->snowflake-connector-python<3.0.0->snowflake-sqlalchemy) (1.20.98)\n",
            "Requirement already satisfied: s3transfer<0.5.0,>=0.4.0 in /anaconda/envs/azureml_py38/lib/python3.8/site-packages (from boto3<2.0.0,>=1.4.4->snowflake-connector-python<3.0.0->snowflake-sqlalchemy) (0.4.2)\n",
            "Requirement already satisfied: isodate>=0.6.0 in /anaconda/envs/azureml_py38/lib/python3.8/site-packages (from msrest>=0.6.18->azure-storage-blob<13.0.0,>=12.0.0->snowflake-connector-python<3.0.0->snowflake-sqlalchemy) (0.6.0)\n",
            "Requirement already satisfied: requests-oauthlib>=0.5.0 in /anaconda/envs/azureml_py38/lib/python3.8/site-packages (from msrest>=0.6.18->azure-storage-blob<13.0.0,>=12.0.0->snowflake-connector-python<3.0.0->snowflake-sqlalchemy) (1.3.0)\n",
            "Requirement already satisfied: python-dateutil<3.0.0,>=2.1 in /anaconda/envs/azureml_py38/lib/python3.8/site-packages (from botocore<1.21.0,>=1.20.98->boto3<2.0.0,>=1.4.4->snowflake-connector-python<3.0.0->snowflake-sqlalchemy) (2.8.1)\n",
            "Requirement already satisfied: oauthlib>=3.0.0 in /anaconda/envs/azureml_py38/lib/python3.8/site-packages (from requests-oauthlib>=0.5.0->msrest>=0.6.18->azure-storage-blob<13.0.0,>=12.0.0->snowflake-connector-python<3.0.0->snowflake-sqlalchemy) (3.1.1)\n",
            "Note: you may need to restart the kernel to use updated packages.\n"
          ]
        }
      ],
      "source": [
        "pip install snowflake-sqlalchemy"
      ]
    },
    {
      "cell_type": "code",
      "execution_count": 2,
      "metadata": {
        "gather": {
          "logged": 1657636180017
        },
        "jupyter": {
          "outputs_hidden": false,
          "source_hidden": false
        },
        "nteract": {
          "transient": {
            "deleting": false
          }
        }
      },
      "outputs": [
        {
          "name": "stderr",
          "output_type": "stream",
          "text": [
            "/anaconda/envs/azureml_py38/lib/python3.8/site-packages/snowflake/connector/options.py:94: UserWarning: You have an incompatible version of 'pyarrow' installed (4.0.1), please install a version that adheres to: 'pyarrow<5.1.0,>=5.0.0; extra == \"pandas\"'\n",
            "  warn_incompatible_dep(\n"
          ]
        }
      ],
      "source": [
        "from snowflake.sqlalchemy import URL\n",
        "from sqlalchemy import create_engine\n",
        "import getpass\n",
        "import pandas as pd\n",
        "import plotly.express as px"
      ]
    },
    {
      "cell_type": "code",
      "execution_count": 3,
      "metadata": {
        "gather": {
          "logged": 1657636198544
        },
        "jupyter": {
          "outputs_hidden": false,
          "source_hidden": false
        },
        "nteract": {
          "transient": {
            "deleting": false
          }
        }
      },
      "outputs": [],
      "source": [
        "user = input(\"Snowflake username\")\n",
        "password = getpass.getpass(\"Snowflake password\")\n",
        "sf_engine = create_engine(\n",
        "    URL(\n",
        "        account=\"cw55877.east-us-2.azure\",\n",
        "        user=user,\n",
        "        password=password,\n",
        "        warehouse=\"ARM_WAREHOUSE\",\n",
        "        role=user,\n",
        "        numpy=True,\n",
        "    )\n",
        ")"
      ]
    },
    {
      "cell_type": "code",
      "execution_count": 4,
      "metadata": {
        "gather": {
          "logged": 1657636219584
        },
        "jupyter": {
          "outputs_hidden": false,
          "source_hidden": false
        },
        "nteract": {
          "transient": {
            "deleting": false
          }
        }
      },
      "outputs": [],
      "source": [
        "train_query = \"\"\"\n",
        "select *\n",
        "from analytics.analytics.ml_ercot_all_features\n",
        "where split = 'TRAIN'\n",
        "order by delivery_datetime\n",
        "\"\"\"\n",
        "\n",
        "vali_query = \"\"\"\n",
        "select *\n",
        "from analytics.analytics.ml_ercot_all_features\n",
        "where split = 'VALI'\n",
        "order by delivery_datetime\n",
        "\"\"\"\n",
        "\n",
        "test_query = \"\"\"\n",
        "select *\n",
        "from analytics.analytics.ml_ercot_all_features\n",
        "where split = 'TEST'\n",
        "order by delivery_datetime\n",
        "\"\"\"\n",
        "\n",
        "df_train = pd.read_sql_query(train_query, con=sf_engine)\n",
        "df_vali = pd.read_sql_query(vali_query, con=sf_engine)\n",
        "df_test = pd.read_sql_query(test_query, con=sf_engine)"
      ]
    },
    {
      "cell_type": "code",
      "execution_count": 5,
      "metadata": {
        "gather": {
          "logged": 1657636223803
        },
        "jupyter": {
          "outputs_hidden": false,
          "source_hidden": false
        },
        "nteract": {
          "transient": {
            "deleting": false
          }
        }
      },
      "outputs": [],
      "source": [
        "non_numeric_cols = [\n",
        "    \"DELIVERY_DATETIME\", #\tTIMESTAMP_TZ(9)\n",
        "    # \"DA_ENERGY_PRICE\", #\tFLOAT\n",
        "    # \"RT_ENERGY_PRICE\", #\tFLOAT\n",
        "    # \"DART_SPREAD\", #\tFLOAT\n",
        "    # \"DART_SPREAD_SIGN\", #\tFLOAT\n",
        "    \"DART_SPREAD_BIN\", #\tVARCHAR(16777216)\n",
        "    \"SPLIT\", #\tVARCHAR(7)\n",
        "    # \"ANCILLARY_PRICE_REGUP\", #\tFLOAT\n",
        "    # \"ANCILLARY_PRICE_REGDN\", #\tFLOAT\n",
        "    # \"ANCILLARY_PRICE_OFFNS\", #\tFLOAT\n",
        "    # \"ANCILLARY_PRICE_ONNS\", #\tFLOAT\n",
        "    # \"ANCILLARY_PRICE_RRSGN\", #\tFLOAT\n",
        "    # \"ANCILLARY_PRICE_RRSLD\", #\tFLOAT\n",
        "    # \"ANCILLARY_PRICE_RRSNC\", #\tFLOAT\n",
        "    # \"ANCILLARY_QUANTITY_REGUP\", #\tFLOAT\n",
        "    # \"ANCILLARY_QUANTITY_REGDN\", #\tFLOAT\n",
        "    # \"ANCILLARY_QUANTITY_OFFNS\", #\tFLOAT\n",
        "    # \"ANCILLARY_QUANTITY_ONNS\", #\tFLOAT\n",
        "    # \"ANCILLARY_QUANTITY_RRSGN\", #\tFLOAT\n",
        "    # \"ANCILLARY_QUANTITY_RRSLD\", #\tFLOAT\n",
        "    # \"ANCILLARY_QUANTITY_RRSNC\", #\tFLOAT\n",
        "    \"LOAD_ZONE_PUBLISHED_DATETIME\", #\tTIMESTAMP_TZ(9)\n",
        "    \"WEATHER_ZONE_PUBLISHED_DATETIME\", #\tTIMESTAMP_TZ(9)\n",
        "    \"ANCILLARY_PUBLISHED_DATETIME\", #\tTIMESTAMP_TZ(9)\n",
        "    \"STWPFANDWGRPP_PUBLISHED_DATETIME\", #\tTIMESTAMP_TZ(9)\n",
        "    \"WIND_PUBLISHED_DATETIME\", #\tTIMESTAMP_NTZ(9)\n",
        "    \"WEATHER_PUBLISHED_DATETIME\", #\tTIMESTAMP_TZ(9)\n",
        "    \"SOLAR_PUBLISHED_DATETIME\", # TIMESTAMP_TZ(9)\n",
        "    # \"LOAD_ZONE_HOURDIFF\", #\tNUMBER(9,0)\n",
        "    # \"WEATHER_ZONE_HOURDIFF\", #\tNUMBER(9,0)\n",
        "    # \"ANCILLARY_HOURDIFF\", #\tNUMBER(9,0)\n",
        "    # \"STWPFANDWGRPP_HOURDIFF\", #\tNUMBER(9,0)\n",
        "    # \"WIND_HOURDIFF\", #\tNUMBER(9,0)\n",
        "    # \"WEATHER_HOURDIFF\", #\tNUMBER(9,0)\n",
        "]\n",
        "date_cols = [\n",
        "    \"DELIVERY_DATETIME\", #\tTIMESTAMP_TZ(9)\n",
        "    \"LOAD_ZONE_PUBLISHED_DATETIME\", #\tTIMESTAMP_TZ(9)\n",
        "    \"WEATHER_ZONE_PUBLISHED_DATETIME\", #\tTIMESTAMP_TZ(9)\n",
        "    \"ANCILLARY_PUBLISHED_DATETIME\", #\tTIMESTAMP_TZ(9)\n",
        "    \"STWPFANDWGRPP_PUBLISHED_DATETIME\", #\tTIMESTAMP_TZ(9)\n",
        "    \"WIND_PUBLISHED_DATETIME\", #\tTIMESTAMP_NTZ(9)\n",
        "    \"SOLAR_PUBLISHED_DATETIME\", # TIMESTAMP_NTZ(9)\n",
        "    \"WEATHER_PUBLISHED_DATETIME\", #\tTIMESTAMP_TZ(9)\n",
        "]\n",
        "\n",
        "# convert numeric types\n",
        "non_numeric_cols_lower = [col.lower() for col in non_numeric_cols]\n",
        "numeric_cols = [col for col in df_train.columns if col not in non_numeric_cols_lower]\n",
        "df_train[numeric_cols] = df_train[numeric_cols].astype('float')\n",
        "df_vali[numeric_cols] = df_vali[numeric_cols].astype('float')\n",
        "df_test[numeric_cols] = df_test[numeric_cols].astype('float')\n",
        "\n",
        "# convert datetime types\n",
        "date_cols_lower = [col.lower() for col in date_cols]\n",
        "df_train[date_cols_lower] = df_train[date_cols_lower].astype(str)\n",
        "df_vali[date_cols_lower] = df_vali[date_cols_lower].astype(str)\n",
        "df_test[date_cols_lower] = df_test[date_cols_lower].astype(str)\n",
        "\n",
        "assert df_train.dtypes.equals(df_vali.dtypes)\n",
        "assert df_train.dtypes.equals(df_test.dtypes)"
      ]
    },
    {
      "cell_type": "code",
      "execution_count": 6,
      "metadata": {
        "gather": {
          "logged": 1657636286525
        },
        "jupyter": {
          "outputs_hidden": false,
          "source_hidden": false
        },
        "nteract": {
          "transient": {
            "deleting": false
          }
        }
      },
      "outputs": [
        {
          "name": "stderr",
          "output_type": "stream",
          "text": [
            "Method register_pandas_dataframe: This is an experimental method, and may change at any time. Please see https://aka.ms/azuremlexperimental for more information.\n",
            "Method register_pandas_dataframe: This is an experimental method, and may change at any time. Please see https://aka.ms/azuremlexperimental for more information.\n",
            "Method register_pandas_dataframe: This is an experimental method, and may change at any time. Please see https://aka.ms/azuremlexperimental for more information.\n"
          ]
        }
      ],
      "source": [
        "from azureml.core import Workspace, Dataset, Datastore\n",
        "\n",
        "ws = Workspace.from_config()\n",
        "blob_store = Datastore.get(ws, \"babat\")\n",
        "ds_train = Dataset.Tabular.register_pandas_dataframe(\n",
        "    df_train,\n",
        "    blob_store,\n",
        "    'ARM Training',\n",
        "    description = 'ARM Training dataset pulled from snowflake')\n",
        "\n",
        "ds_vali = Dataset.Tabular.register_pandas_dataframe(\n",
        "    df_vali,\n",
        "    blob_store,\n",
        "    'ARM Validation',\n",
        "    description = 'ARM Validation dataset pulled from snowflake')\n",
        "\n",
        "ds_test = Dataset.Tabular.register_pandas_dataframe(\n",
        "    df_test,\n",
        "    blob_store,\n",
        "    'ARM Testing',\n",
        "    description = 'ARM Testing dataset pulled from snowflake')\n"
      ]
    },
    {
      "cell_type": "code",
      "execution_count": null,
      "metadata": {
        "jupyter": {
          "outputs_hidden": false,
          "source_hidden": false
        },
        "nteract": {
          "transient": {
            "deleting": false
          }
        }
      },
      "outputs": [],
      "source": []
    }
  ],
  "metadata": {
    "kernel_info": {
      "name": "python38-azureml"
    },
    "kernelspec": {
      "display_name": "Python 3.8 - AzureML",
      "language": "python",
      "name": "python38-azureml"
    },
    "language_info": {
      "codemirror_mode": {
        "name": "ipython",
        "version": 3
      },
      "file_extension": ".py",
      "mimetype": "text/x-python",
      "name": "python",
      "nbconvert_exporter": "python",
      "pygments_lexer": "ipython3",
      "version": "3.8.1"
    },
    "microsoft": {
      "host": {
        "AzureML": {
          "notebookHasBeenCompleted": true
        }
      }
    },
    "nteract": {
      "version": "nteract-front-end@1.0.0"
    }
  },
  "nbformat": 4,
  "nbformat_minor": 2
}
